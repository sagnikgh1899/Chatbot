{
 "cells": [
  {
   "cell_type": "code",
   "execution_count": null,
   "metadata": {},
   "outputs": [],
   "source": [
    "import numpy as np\n",
    "import matplotlib.pyplot as plt\n",
    "%matplotlib inline\n",
    "from sklearn.neighbors import NearestNeighbors\n",
    "import sys\n",
    "import time\n",
    "from statistics import mean\n",
    "import math\n",
    "from sklearn import preprocessing"
   ]
  },
  {
   "cell_type": "code",
   "execution_count": null,
   "metadata": {},
   "outputs": [],
   "source": [
    "start = time.time()"
   ]
  },
  {
   "cell_type": "code",
   "execution_count": null,
   "metadata": {},
   "outputs": [],
   "source": [
    "name_of_file1 = 'a3.csv'\n",
    "thresh = 0.3                                                          #### Imp\n",
    "K = 14 ## Actually K-1 neighbors are considered. Remember              #### Imp\n",
    "alpha_weight_avg = 0.6\n",
    "\n",
    "\n",
    "# K1 = 11 if 11 < K else K\n",
    "thresh1 = thresh #1.0 - thresh \n",
    "# print(K1)\n",
    "limit = sys.getrecursionlimit()"
   ]
  },
  {
   "cell_type": "code",
   "execution_count": null,
   "metadata": {},
   "outputs": [],
   "source": [
    "data2 = np.genfromtxt(name_of_file1,delimiter=',')\n",
    "#data1=data1/np.linalg.norm(data1)\n",
    "print(len(data2)) #,\"\\n\\n\")"
   ]
  },
  {
   "cell_type": "code",
   "execution_count": null,
   "metadata": {},
   "outputs": [],
   "source": [
    "# Normalization\n",
    "# data1 = preprocessing.normalize(data2, axis=0, norm='l1') \n",
    "data1 = data2"
   ]
  },
  {
   "cell_type": "code",
   "execution_count": null,
   "metadata": {},
   "outputs": [],
   "source": [
    "plt.figure(figsize=(8,8))\n",
    "plt.scatter(data1[:,0],data1[:,1],c='blue', label='Datapoints')\n",
    "plt.xlabel('X-Coordinates')\n",
    "plt.ylabel('Y-Coordinates')\n",
    "plt.title('Datapoints Visualization')\n",
    "plt.legend()\n",
    "plt.show()"
   ]
  },
  {
   "cell_type": "code",
   "execution_count": null,
   "metadata": {},
   "outputs": [],
   "source": [
    "# Calculated the nearest neighbors, the density of point_i and density of its K neighbors\n",
    "nbrs = NearestNeighbors(n_neighbors=K, algorithm='auto').fit(data1)\n",
    "distances, indices = nbrs.kneighbors(data1)"
   ]
  },
  {
   "cell_type": "code",
   "execution_count": null,
   "metadata": {},
   "outputs": [],
   "source": [
    "# print(indices[0][1:])"
   ]
  },
  {
   "cell_type": "code",
   "execution_count": null,
   "metadata": {},
   "outputs": [],
   "source": [
    "# print(distances)"
   ]
  },
  {
   "cell_type": "code",
   "execution_count": null,
   "metadata": {},
   "outputs": [],
   "source": [
    "density = []\n",
    "for i in range(len(data1)):\n",
    "    density.append(sum(distances[i])/(K-1))       "
   ]
  },
  {
   "cell_type": "code",
   "execution_count": null,
   "metadata": {},
   "outputs": [],
   "source": [
    "# Getting max density\n",
    "max_density = min(density)\n",
    "idx_1 = density.index(max_density)\n",
    "\n",
    "# Plotting       \n",
    "plt.figure(figsize=(8,8))\n",
    "plt.scatter(data1[:,0],data1[:,1],c='blue', label='Datapoints')\n",
    "plt.scatter(data1[idx_1][0], data1[idx_1][1], c='red', s=200, label='Highest Density', marker = 'x')\n",
    "plt.xlabel('X-Coordinates')\n",
    "plt.ylabel('Y-Coordinates')\n",
    "plt.title('Datapoints Visualization')\n",
    "plt.legend()\n",
    "plt.show()"
   ]
  },
  {
   "cell_type": "code",
   "execution_count": null,
   "metadata": {},
   "outputs": [],
   "source": [
    "# print(min(density))\n",
    "# print(density[484])\n",
    "# print(indices[max_idx])"
   ]
  },
  {
   "cell_type": "code",
   "execution_count": null,
   "metadata": {},
   "outputs": [],
   "source": [
    "# Weighted Average\n",
    "def numpy_ewma_vectorized_v2(data, alpha):\n",
    "\n",
    "    window = (2 /alpha) - 1.0\n",
    "    alpha_rev = 1-alpha\n",
    "    n = data.shape[0]\n",
    "\n",
    "    pows = alpha_rev**(np.arange(n+1))\n",
    "\n",
    "    scale_arr = 1/pows[:-1]\n",
    "    offset = data[0]*pows[1:]\n",
    "    pw0 = alpha*alpha_rev**(n-1)\n",
    "\n",
    "    mult = data*pw0*scale_arr\n",
    "    cumsums = mult.cumsum()\n",
    "    out = offset + cumsums*scale_arr[::-1]\n",
    "    return out[-1]"
   ]
  },
  {
   "cell_type": "code",
   "execution_count": null,
   "metadata": {},
   "outputs": [],
   "source": [
    "def NovClus(idx, hash_map, anomaly_list, thresh, list_of_parents, cluster_no, c, res, new_iter, can_form_cluster):\n",
    "    #print(can_form_cluster)\n",
    "    #print(idx, hash_map[idx], len(anomaly_list), c)\n",
    "    K = 0\n",
    "    for key in hash_map: \n",
    "        if hash_map[key] == K: \n",
    "            res = res + 1\n",
    "    print(res, cluster_no, c) ## Uncomment latter\n",
    "        \n",
    "    if c >= limit-50:\n",
    "        return \n",
    "    \n",
    "    if hash_map[idx] != 0 and new_iter == False:\n",
    "        #print(\"returning 1\")\n",
    "        return\n",
    "    \n",
    "    if new_iter == True and data1[idx].tolist() in anomaly_list:\n",
    "        anomaly_list.remove(data1[idx].tolist())\n",
    "    \n",
    "    if new_iter == False and can_form_cluster == False:\n",
    "        can_form_cluster = True\n",
    "        \n",
    "    new_iter = False\n",
    "    list_of_parents.append(density[idx])\n",
    "    \n",
    "    \n",
    "    for index in indices[idx][1:]: \n",
    "        weighted_density = numpy_ewma_vectorized_v2(np.array(list_of_parents), alpha_weight_avg)\n",
    "        numerator = abs(weighted_density - density[index])\n",
    "        denominator = weighted_density\n",
    "        if (numerator/denominator) > thresh: # 0.3 > 0.7      # >   #### Is this weighted thing giving correct results?\n",
    "            hash_map[index] = -1\n",
    "            list_val = data1[index].tolist()\n",
    "            if list_val not in anomaly_list:\n",
    "                anomaly_list.append(list_val)\n",
    "        else:   \n",
    "            #print(\"cluster number of element changed\")\n",
    "            hash_map[idx] = cluster_no\n",
    "            #count += 1\n",
    "            NovClus(index, hash_map, anomaly_list, thresh, list_of_parents, cluster_no, c+1, 0, new_iter, can_form_cluster)\n",
    "    \n",
    "    if can_form_cluster == False:\n",
    "        hash_map[idx] = -1\n",
    "        list_val = data1[idx].tolist()\n",
    "        if list_val not in anomaly_list:\n",
    "            anomaly_list.append(list_val)"
   ]
  },
  {
   "cell_type": "code",
   "execution_count": null,
   "metadata": {},
   "outputs": [],
   "source": []
  },
  {
   "cell_type": "code",
   "execution_count": null,
   "metadata": {
    "scrolled": true
   },
   "outputs": [],
   "source": [
    "visited_hash_map = {i:False for i in range(len(data1))}\n",
    "cluster_no = 0\n",
    "anomaly_list = []\n",
    "hash_map = {i:0 for i in range(len(data1))}\n",
    "\n",
    "\n",
    "while (0 in hash_map.values()) == True:\n",
    "           \n",
    "    #print(\"Number of unvisited = \", count_0)\n",
    "    min_val = float(\"inf\")\n",
    "    #max_idx = 0\n",
    "    \n",
    "    for i in range(len(data1)):\n",
    "        if density[i] < min_val and hash_map[i] <= 0 and visited_hash_map[i] != True: #<=\n",
    "            min_val = density[i]\n",
    "            max_idx = i\n",
    "    \n",
    "    visited_hash_map[max_idx] = True\n",
    "    \n",
    "    list_of_parents = []\n",
    "    \n",
    "    new_iter = True\n",
    "    res = 0\n",
    "    can_form_cluster = False\n",
    "    if hash_map[max_idx] != -1:\n",
    "        cluster_no += 1\n",
    "    #print(\"\\n\\nCalling function!!\")\n",
    "    NovClus(max_idx, hash_map, anomaly_list, thresh, list_of_parents, cluster_no, 0, res, new_iter, can_form_cluster)\n",
    "    \n",
    "    \n",
    "    # This thing needs to be seen and thought of\n",
    "    \"\"\"count_0 = 0\n",
    "    for key in hash_map:\n",
    "        if hash_map[key] == 0:\n",
    "            count_0 += 1\n",
    "    #print(\"Number of unvisited = \", count_0)\"\"\"\n",
    "    \n",
    "    \"\"\"plt.figure(figsize=(8,8))\n",
    "    plt.scatter(data1[:,0],data1[:,1],c='blue', label='Datapoints')\n",
    "    plt.scatter(data1[max_idx][0], data1[max_idx][1], c='red', s=200, label='Highest Density', marker = 'x')\n",
    "    color = ['red', 'aqua', 'yellow', 'magenta', 'black', 'lightgreen', 'orange', 'gray', 'purple', 'brown', 'olive', 'gold', 'deeppink', 'chocolate', 'lawngreen', 'pink', 'navy', 'blueviolet', 'paleturquoise', 'olive', 'lavender', 'navajowhite', 'khaki']\n",
    "    for i in range(len(data1)):\n",
    "        if hash_map[i] == cluster_no:\n",
    "            plt.scatter(data1[i][0], data1[i][1], c=color[cluster_no])\n",
    "    plt.xlabel('X-Coordinates')\n",
    "    plt.ylabel('Y-Coordinates')\n",
    "    plt.title('Datapoints Visualization')\n",
    "    plt.legend()\n",
    "    plt.show()\"\"\"\n",
    "    \n",
    "    \"\"\"if count_0 <= 1:\n",
    "        for key in hash_map:\n",
    "            if hash_map[key] == 0:\n",
    "                hash_map[key] == -1\n",
    "                list_val = data1[key].tolist()\n",
    "                if list_val not in anomaly_list:\n",
    "                    anomaly_list.append(list_val)\n",
    "        break\"\"\"\n",
    "        \n",
    "            \n",
    "print(\"Number of Anomalies = \",len(anomaly_list))"
   ]
  },
  {
   "cell_type": "code",
   "execution_count": null,
   "metadata": {},
   "outputs": [],
   "source": [
    "#store_anomaly_list = anomaly_list\n",
    "#anomaly_list = store_anomaly_list\n",
    "#print(anomaly_list)"
   ]
  },
  {
   "cell_type": "code",
   "execution_count": null,
   "metadata": {},
   "outputs": [],
   "source": [
    "#print(sorted(anomaly_list))\n",
    "def restore(anomaly_list, needs_iteration):\n",
    "    #print(\"\\n\\n\")\n",
    "    for ele in anomaly_list:\n",
    "        restore_list = []\n",
    "        reqd_idx = data1.tolist().index(ele)\n",
    "        #print(reqd_idx)\n",
    "        #print(data1[reqd_idx])\n",
    "        #print(hash_map[reqd_idx])\n",
    "        #print(indices[reqd_idx][1:])\n",
    "        #print(ele)\n",
    "        #print(hash_map[indices[reqd_idx][1]]) ##\n",
    "        #print(indices[reqd_idx][1])\n",
    "        #print((abs(density[indices[reqd_idx][1]] - density[reqd_idx]) / density[reqd_idx])) ##\n",
    "        for p in range(1,K):\n",
    "            if hash_map[indices[reqd_idx][p]] > 0 and (abs(density[indices[reqd_idx][p]] - density[reqd_idx]) / density[reqd_idx]) <= thresh1: # thresh1\n",
    "                # remove from anomaly list\n",
    "                anomaly_list.remove(ele)\n",
    "                # Assign cluster\n",
    "                hash_map[reqd_idx] = hash_map[indices[reqd_idx][p]]\n",
    "                break\n",
    "                \n",
    "    \"\"\"for ele in anomaly_list:\n",
    "        reqd_idx = np.where(data1 == ele)[0][0]\n",
    "        for p in range(1,K):\n",
    "            if hash_map[indices[reqd_idx][p]] < 0 and hash_map[reqd_idx] == -1 and (abs(density[indices[reqd_idx][p]] - density[reqd_idx]) / density[reqd_idx]) <= thresh1:\n",
    "                needs_iteration = True\n",
    "                break\n",
    "    print(needs_iteration)\n",
    "    #return needs_iteration \"\"\"\n",
    "    return len(anomaly_list)\n",
    "    \n",
    "\n",
    "runs = 0\n",
    "stored_val = float(\"inf\")\n",
    "while runs < len(data1)/2:\n",
    "    if anomaly_list == 0:\n",
    "        break\n",
    "    if restore(anomaly_list, False) == stored_val:\n",
    "        break\n",
    "    else:\n",
    "        stored_val = restore(anomaly_list, False)\n",
    "    runs += 1\n",
    "    "
   ]
  },
  {
   "cell_type": "code",
   "execution_count": null,
   "metadata": {},
   "outputs": [],
   "source": [
    "print(len(anomaly_list))\n",
    "#print(len(store_anomaly_list))"
   ]
  },
  {
   "cell_type": "code",
   "execution_count": null,
   "metadata": {},
   "outputs": [],
   "source": [
    "\"\"\"# print(hash_map)\n",
    "cluster_idx = cluster_no\n",
    "while cluster_idx > 0:\n",
    "    count_f = 0\n",
    "    for key in hash_map:\n",
    "        if hash_map[key] == cluster_idx:\n",
    "            count_f += 1\n",
    "    if count_f <=1:\n",
    "        cluster_no -= 1\n",
    "    cluster_idx -= 1\n",
    "        \n",
    "print(cluster_no)\"\"\""
   ]
  },
  {
   "cell_type": "code",
   "execution_count": null,
   "metadata": {},
   "outputs": [],
   "source": []
  },
  {
   "cell_type": "code",
   "execution_count": null,
   "metadata": {
    "scrolled": true
   },
   "outputs": [],
   "source": [
    "#labels = [18, 18, 18, 18, 18, 18, 18, 18, 18, 18, 18, 29, 18, 18, 18, 18, 18, 18, 18, 18, 18, 18, 18, 18, 18, 18, 18, 18, 18, 18, 18, 18, 18, 18, 18, 18, 18, 18, 18, 18, 18, 18, 18, 18, 18, 29, 5, 18, 18, 18, 18, 18, 18, 18, 18, 18, 18, 18, 18, 18, 18, 18, 18, 18, 18, 18, 18, 18, 18, 18, 18, 18, 18, 18, 18, 18, 18, 18, 18, 18, 18, 18, 18, 18, 18, 18, 18, 18, 18, 18, 18, 18, 18, 18, 18, 18, 18, 18, 18, 18, 7, 7, 28, 7, 25, 25, 7, 7, 28, 7, 7, 25, 7, 7, 7, 7, 9, 7, 25, 25, 7, 7, 25, 25, 7, 28, 9, 25, 7, 7, 7, 25, 7, 7, 7, 7, 28, 25, 7, 7, 7, 7, 7, 28, 7, 25, 25, 7, 7, 25, 7, 7, 14, 9, 25, 25, 7, 7, 25, 25, 25, 25, 25, 7, 7, 25, 7, 7, 7, 25, 7, 25, 25, 25, 28, 7, 7, 25, 7, 7, 28, 7, 7, 7, 7, 28, 7, 25, 7, 7, 7, 25, 25, 7, 9, 25, 7, 7, 25, 7, 8, 8, 8, 8, 8, 8, 8, 8, 8, 8, 8, 8, 8, 8, 8, 8, 8, 8, 8, 8, 8, 8, 8, 8, 8, 8, 8, 8, 8, 8, 8, 8, 8, 8, 8, 8, 8, 8, 8, 8, 8, 8, 8, 8, 8, 8, 8, 8, 8, 8, 8, 8, 8, 8, 8, 8, 8, 8, 21, 8, 8, 8, 8, 8, 8, 8, 8, 8, 8, 8, 8, 8, 8, 8, 8, 8, 8, 8, 8, 8, 8, 8, 8, 8, 8, 8, 8, 8, 8, 8, 8, 8, 8, 8, 8, 8, 8, 8, 0, 0, 0, 0, 26, 0, 26, 0, 27, 26, 26, 28, 27, 0, 27, 0, 0, 0, 26, 0, 0, 0, 27, 26, 26, 22, 0, 26, 0, 0, 0, 0, 0, 0, 0, 0, 0, 0, 0, 27, 0, 28, 0, 0, 0, 26, 0, 26, 0, 27, 0, 26, 22, 0, 0, 0, 26, 0, 0, 0, 0, 26, 0, 26, 0, 0, 26, 0, 0, 26, 0, 0, 0, 26, 0, 27, 27, 26, 0, 26, 0, 26, 0, 26, 26, 0, 27, 0, 26, 0, 27, 0, 26, 0, 0, 0, 0, 0, 0, 0, 20, 20, 20, 20, 20, 20, 20, 20, 20, 20, 20, 20, 20, 20, 20, 20, 20, 20, 20, 20, 20, 20, 20, 20, 20, 20, 20, 20, 20, 20, 20, 20, 20, 20, 20, 20, 20, 20, 20, 20, 20, 20, 20, 20, 20, 20, 20, 20, 20, 20, 20, 20, 20, 20, 20, 20, 20, 20, 20, 20, 20, 20, 20, 20, 20, 20, 20, 20, 20, 20, 20, 20, 20, 20, 20, 20, 20, 20, 20, 20, 20, 20, 20, 20, 20, 20, 20, 20, 20, 20, 20, 20, 20, 20, 20, 20, 20, 20, 20, 24, 2, 2, 24, 24, 2, 24, 24, 24, 24, 18, 24, 2, 2, 2, 24, 2, 2, 2, 2, 2, 24, 2, 24, 24, 2, 2, 24, 24, 24, 2, 2, 2, 24, 24, 2, 24, 24, 2, 24, 2, 2, 2, 2, 24, 2, 2, 2, 24, 24, 2, 2, 2, 2, 2, 2, 2, 2, 2, 24, 24, 24, 2, 2, 2, 24, 2, 18, 24, 24, 2, 24, 24, 24, 2, 2, 10, 2, 2, 2, 24, 2, 2, 24, 30, 2, 2, 2, 24, 2, 2, 24, 2, 24, 24, 2, 2, 2, 2, 19, 19, 28, 19, 19, 26, 19, 19, 19, 26, 19, 26, 19, 19, 19, 26, 19, 26, 19, 19, 19, 19, 19, 19, 19, 19, 19, 28, 19, 19, 26, 19, 19, 19, 28, 19, 26, 19, 19, 19, 19, 19, 19, 26, 19, 19, 19, 19, 19, 19, 19, 28, 19, 19, 19, 19, 19, 19, 26, 28, 19, 19, 19, 19, 19, 19, 19, 19, 19, 19, 19, 19, 19, 19, 19, 19, 19, 26, 19, 19, 19, 19, 19, 19, 19, 19, 19, 19, 19, 19, 19, 19, 19, 19, 26, 19, 19, 19, 13, 13, 13, 13, 13, 13, 13, 13, 13, 13, 13, 13, 13, 13, 13, 13, 13, 13, 13, 13, 13, 13, 13, 27, 13, 13, 13, 13, 13, 13, 13, 13, 13, 13, 13, 27, 13, 13, 13, 13, 13, 27, 13, 13, 13, 13, 13, 13, 13, 13, 13, 13, 13, 13, 13, 13, 13, 13, 13, 27, 13, 13, 13, 13, 13, 13, 13, 13, 13, 13, 13, 13, 13, 13, 13, 13, 13, 13, 13, 13, 13, 13, 13, 13, 13, 13, 13, 13, 13, 13, 27, 13, 13, 13, 13, 13, 13, 13, 27, 4, 4, 26, 4, 4, 4, 4, 4, 4, 4, 4, 4, 26, 4, 4, 4, 26, 4, 4, 4, 4, 4, 4, 4, 4, 29, 4, 4, 4, 4, 4, 4, 4, 4, 4, 4, 4, 4, 4, 4, 4, 4, 4, 4, 29, 4, 4, 4, 4, 4, 4, 4, 4, 4, 4, 4, 4, 26, 4, 4, 4, 4, 4, 4, 4, 4, 4, 4, 4, 4, 4, 4, 4, 4, 4, 4, 4, 4, 4, 4, 4, 4, 4, 4, 4, 4, 4, 4, 4, 4, 4, 4, 4, 4, 4, 4, 4, 4, 26, 4, 13, 13, 13, 13, 35, 13, 13, 13, 13, 13, 13, 13, 13, 13, 13, 13, 13, 23, 13, 13, 13, 13, 20, 13, 13, 13, 13, 13, 13, 13, 13, 13, 13, 13, 13, 13, 13, 13, 13, 13, 13, 13, 13, 13, 13, 13, 13, 13, 20, 13, 13, 13, 13, 13, 13, 13, 13, 13, 13, 13, 13, 13, 13, 13, 13, 13, 13, 13, 13, 13, 13, 13, 13, 13, 13, 13, 20, 16, 13, 13, 13, 13, 13, 13, 13, 13, 13, 35, 13, 13, 13, 13, 13, 13, 13, 13, 13, 13, 13, 26, 5, 5, 5, 26, 5, 5, 5, 5, 5, 5, 5, 5, 26, 5, 5, 5, 5, 5, 5, 5, 5, 5, 18, 5, 5, 5, 5, 5, 5, 5, 5, 5, 5, 5, 5, 5, 5, 5, 24, 5, 5, 5, 5, 5, 5, 5, 5, 5, 5, 5, 5, 5, 5, 5, 5, 5, 5, 5, 5, 5, 5, 26, 5, 5, 5, 18, 5, 5, 5, 5, 26, 5, 26, 26, 5, 5, 5, 5, 5, 5, 5, 24, 5, 5, 18, 5, 18, 5, 26, 26, 5, 18, 5, 5, 5, 5, 5, 5, 5, 27, 10, 10, 10, 10, 10, 10, 10, 10, 10, 25, 10, 10, 10, 10, 10, 10, 10, 10, 10, 10, 10, 10, 10, 10, 10, 10, 10, 10, 10, 10, 30, 10, 10, 10, 10, 10, 10, 10, 10, 10, 27, 10, 10, 10, 10, 10, 10, 30, 10, 10, 10, 10, 10, 11, 10, 11, 10, 10, 10, 10, 10, 10, 10, 10, 10, 10, 10, 10, 10, 10, 10, 10, 10, 25, 10, 10, 10, 10, 10, 10, 10, 10, 10, 10, 10, 10, 25, 10, 10, 10, 10, 10, 10, 10, 10, 10, 10, 10, 10, 14, 14, 25, 14, 14, 14, 25, 14, 14, 25, 25, 14, 14, 25, 14, 14, 14, 14, 25, 14, 14, 27, 14, 14, 25, 14, 14, 14, 14, 25, 27, 14, 14, 14, 14, 14, 14, 25, 25, 14, 14, 14, 14, 14, 14, 25, 25, 27, 14, 14, 14, 25, 14, 14, 25, 14, 14, 14, 14, 25, 25, 14, 14, 14, 14, 14, 14, 14, 14, 14, 14, 14, 14, 14, 14, 27, 14, 14, 14, 14, 14, 14, 14, 25, 14, 14, 14, 25, 14, 14, 14, 14, 14, 14, 25, 14, 14, 14, 14, 9, 7, 9, 9, 9, 9, 9, 9, 9, 7, 9, 9, 9, 9, 9, 9, 9, 9, 9, 9, 9, 9, 9, 9, 9, 9, 9, 9, 9, 27, 9, 9, 9, 9, 27, 9, 9, 27, 9, 27, 9, 9, 9, 9, 9, 9, 9, 9, 9, 7, 9, 9, 9, 9, 9, 9, 9, 9, 9, 9, 9, 9, 9, 9, 9, 9, 9, 9, 9, 9, 9, 9, 9, 9, 9, 9, 7, 9, 27, 9, 9, 27, 9, 27, 9, 9, 9, 27, 9, 9, 27, 9, 27, 27, 9, 9, 9, 9, 9, 24, 24, 24, 24, 24, 24, 24, 24, 24, 24, 24, 24, 24, 24, 24, 24, 24, 24, 24, 24, 24, 24, 24, 24, 24, 24, 24, 24, 24, 24, 24, 24, 24, 24, 24, 24, 24, 24, 24, 24, 24, 24, 24, 24, 24, 24, 24, 24, 24, 24, 24, 24, 24, 24, 24, 24, 24, 24, 24, 24, 24, 24, 24, 24, 24, 24, 24, 24, 24, 24, 28, 24, 24, 24, 24, 24, 24, 24, 24, 24, 24, 24, 24, 24, 24, 24, 24, 24, 24, 24, 28, 28, 24, 24, 24, 24, 17, 17, 17, 17, 17, 17, 17, 17, 17, 17, 17, 17, 17, 17, 17, 17, 17, 17, 17, 17, 17, 17, 17, 17, 17, 17, 17, 17, 17, 17, 17, 17, 17, 17, 17, 17, 17, 17, 17, 17, 17, 17, 17, 17, 17, 17, 17, 17, 17, 17, 17, 17, 17, 17, 17, 17, 17, 17, 17, 17, 17, 17, 17, 17, 17, 17, 17, 17, 17, 17, 17, 17, 17, 17, 17, 17, 17, 17, 17, 17, 17, 17, 17, 17, 17, 17, 17, 17, 17, 17, 17, 17, 17, 17, 17, 17, 17, 25, 17, 17, 17, 17, 28, 17, 17, 17, 17, 17, 17, 17, 17, 17, 17, 17, 17, 17, 17, 17, 17, 17, 17, 17, 17, 17, 25, 17, 17, 17, 17, 17, 17, 17, 17, 17, 17, 17, 17, 17, 17, 17, 17, 17, 17, 17, 17, 17, 17, 17, 17, 17, 17, 17, 17, 17, 17, 25, 17, 17, 17, 17, 17, 17, 17, 25, 17, 17, 17, 17, 17, 25, 17, 17, 17, 17, 17, 17, 17, 17, 17, 25, 17, 17, 17, 17, 17, 17, 17, 17, 17, 28, 17, 17, 17, 17, 10, 10, 10, 10, 10, 10, 10, 10, 10, 10, 10, 10, 10, 25, 10, 10, 10, 10, 10, 10, 10, 27, 10, 10, 10, 10, 10, 10, 10, 10, 10, 10, 10, 10, 10, 10, 10, 10, 10, 27, 10, 10, 10, 10, 10, 10, 10, 10, 10, 10, 10, 10, 10, 10, 10, 25, 10, 10, 10, 10, 10, 10, 10, 10, 10, 10, 10, 10, 10, 10, 10, 27, 10, 10, 10, 10, 10, 10, 10, 10, 10, 10, 10, 10, 10, 10, 10, 10, 10, 10, 10, 10, 10, 10, 10, 10, 10, 10, 10, 8, 8, 8, 8, 8, 8, 8, 8, 8, 8, 8, 8, 8, 8, 8, 8, 8, 8, 8, 8, 8, 8, 8, 8, 8, 8, 8, 8, 8, 8, 8, 8, 8, 8, 8, 8, 8, 8, 8, 8, 8, 8, 8, 8, 8, 8, 8, 8, 8, 8, 8, 8, 8, 8, 8, 8, 8, 8, 8, 8, 8, 8, 8, 8, 8, 8, 8, 8, 8, 8, 8, 8, 8, 8, 8, 8, 8, 8, 8, 8, 8, 8, 8, 8, 8, 8, 8, 8, 8, 8, 8, 8, 8, 8, 28, 28, 28, 28, 28, 28, 28, 28, 28, 28, 28, 28, 28, 28, 28, 28, 28, 28, 28, 28, 28, 28, 28, 28, 28, 28, 28, 28, 28, 28, 28, 28, 28, 28, 28, 28, 28, 28, 28, 28, 28, 28, 28, 28, 28, 28, 28, 28, 28, 28, 28, 28, 28, 28, 28, 28, 28, 28, 28, 28, 28, 28, 28, 28, 28, 28, 28, 28, 28, 28, 28, 28, 28, 28, 28, 28, 28, 28, 28, 28, 28, 28, 28, 28, 28, 28, 28, 28, 28, 28, 28, 28, 28, 28, 28, 28, 28, 28, 20, 20, 20, 20, 20, 20, 20, 20, 20, 20, 20, 20, 20, 20, 20, 20, 20, 20, 20, 20, 20, 20, 20, 20, 20, 20, 20, 20, 20, 20, 20, 20, 20, 20, 20, 20, 20, 20, 20, 20, 20, 20, 20, 20, 20, 20, 20, 20, 20, 20, 20, 20, 20, 20, 20, 20, 20, 20, 20, 20, 20, 20, 20, 20, 20, 20, 20, 20, 20, 20, 20, 20, 20, 20, 20, 20, 20, 20, 20, 20, 20, 20, 20, 20, 20, 20, 20, 20, 20, 20, 20, 20, 20, 20, 20, 20, 20, 20, 20, 20, 12, 12, 12, 12, 12, 12, 12, 12, 12, 12, 12, 12, 12, 12, 12, 12, 12, 27, 12, 12, 27, 12, 28, 12, 12, 12, 12, 27, 12, 28, 12, 27, 12, 12, 12, 12, 12, 12, 12, 12, 12, 12, 12, 12, 12, 12, 12, 12, 4, 12, 12, 12, 12, 12, 27, 12, 12, 12, 12, 12, 12, 12, 12, 12, 12, 12, 12, 12, 12, 12, 12, 12, 12, 12, 12, 28, 12, 12, 12, 12, 12, 12, 12, 12, 12, 12, 12, 12, 12, 12, 12, 12, 12, 12, 12, 12, 12, 12, 12, 12, 22, 22, 22, 22, 22, 22, 22, 22, 27, 22, 22, 27, 22, 22, 22, 22, 28, 22, 22, 22, 22, 28, 22, 22, 22, 22, 22, 26, 22, 22, 22, 22, 22, 22, 22, 22, 22, 22, 22, 22, 22, 22, 22, 22, 26, 22, 22, 22, 22, 22, 22, 22, 22, 22, 22, 22, 22, 22, 22, 22, 22, 22, 22, 22, 22, 22, 22, 22, 22, 27, 22, 22, 22, 22, 22, 22, 26, 22, 22, 22, 22, 22, 22, 22, 26, 22, 22, 22, 22, 22, 22, 22, 22, 22, 22, 0, 0, 0, 0, 26, 0, 0, 0, 0, 0, 0, 0, 26, 0, 0, 0, 0, 0, 0, 0, 0, 0, 0, 26, 0, 0, 0, 0, 26, 0, 0, 0, 0, 0, 0, 0, 0, 0, 0, 0, 0, 0, 0, 0, 0, 0, 0, 0, 0, 0, 0, 26, 0, 0, 0, 0, 0, 0, 0, 0, 0, 0, 0, 0, 0, 0, 0, 0, 0, 0, 0, 0, 0, 0, 0, 0, 26, 0, 0, 0, 0, 0, 0, 0, 0, 10, 0, 26, 0, 0, 0, 0, 0, 0, 0, 26, 0, 0, 0, 5, 5, 5, 18, 5, 5, 18, 5, 5, 5, 5, 5, 5, 5, 5, 18, 5, 5, 5, 5, 18, 5, 5, 5, 5, 5, 5, 5, 5, 5, 5, 5, 5, 18, 18, 5, 5, 5, 18, 5, 5, 5, 5, 18, 18, 5, 5, 5, 5, 5, 18, 18, 5, 18, 18, 18, 18, 5, 18, 18, 18, 5, 5, 5, 5, 5, 5, 5, 5, 5, 5, 5, 18, 18, 5, 18, 18, 5, 5, 5, 5, 5, 5, 18, 18, 18, 5, 5, 5, 18, 18, 5, 5, 5, 5, 5, 5, 5, 5, 25, 25, 25, 10, 6, 6, 6, 6, 25, 6, 25, 25, 6, 25, 25, 6, 25, 6, 25, 25, 25, 25, 25, 6, 25, 6, 6, 25, 28, 25, 25, 25, 25, 25, 6, 25, 25, 6, 25, 28, 25, 28, 25, 25, 25, 25, 6, 25, 6, 28, 25, 25, 6, 25, 25, 25, 25, 25, 25, 28, 25, 25, 25, 25, 6, 6, 25, 6, 25, 25, 25, 25, 28, 25, 25, 28, 25, 28, 25, 6, 25, 25, 6, 6, 25, 25, 25, 25, 25, 25, 25, 25, 33, 25, 25, 25, 25, 25, 25, 25, 11, 11, 11, 11, 11, 11, 11, 11, 11, 11, 11, 11, 11, 11, 11, 11, 11, 11, 11, 11, 11, 11, 11, 11, 11, 11, 11, 11, 11, 11, 11, 11, 11, 11, 11, 11, 11, 11, 11, 11, 11, 11, 11, 26, 11, 11, 11, 11, 11, 11, 11, 11, 11, 11, 11, 11, 11, 11, 11, 11, 11, 11, 26, 11, 11, 11, 11, 11, 11, 11, 11, 11, 11, 11, 11, 11, 11, 11, 11, 11, 11, 11, 11, 11, 11, 11, 11, 11, 11, 11, 11, 11, 11, 11, 11, 11, 11, 11, 16, 16, 16, 16, 27, 20, 16, 16, 28, 16, 16, 16, 16, 16, 16, 16, 20, 27, 16, 16, 16, 16, 16, 20, 16, 16, 16, 16, 16, 16, 16, 28, 16, 16, 16, 16, 16, 16, 20, 16, 16, 16, 16, 20, 16, 16, 16, 16, 16, 16, 16, 28, 16, 16, 16, 16, 16, 20, 16, 16, 16, 16, 16, 16, 16, 16, 16, 16, 16, 16, 16, 16, 16, 16, 16, 16, 16, 16, 16, 16, 16, 16, 16, 16, 16, 16, 20, 16, 16, 16, 16, 20, 20, 16, 27, 16, 16, 16, 16, 16, 23, 23, 23, 23, 23, 28, 23, 27, 23, 28, 23, 28, 23, 27, 23, 23, 28, 23, 23, 23, 23, 23, 23, 23, 23, 23, 28, 23, 23, 23, 23, 23, 23, 23, 23, 23, 23, 23, 23, 23, 23, 23, 23, 23, 23, 23, 23, 23, 23, 23, 23, 23, 23, 23, 23, 23, 23, 23, 23, 23, 23, 28, 23, 23, 23, 23, 23, 23, 23, 23, 23, 23, 23, 23, 23, 23, 23, 23, 23, 28, 28, 23, 27, 23, 23, 23, 23, 23, 23, 23, 27, 23, 23, 23, 23, 23, 23, 23, 23, 21, 21, 21, 21, 21, 21, 21, 21, 21, 21, 21, 21, 21, 21, 21, 21, 21, 21, 21, 21, 21, 21, 27, 21, 21, 21, 21, 21, 21, 21, 21, 21, 21, 21, 21, 21, 21, 21, 21, 21, 21, 21, 21, 21, 21, 21, 21, 21, 21, 21, 21, 21, 21, 21, 21, 21, 21, 21, 21, 21, 21, 21, 21, 21, 21, 21, 21, 21, 21, 21, 21, 21, 21, 21, 21, 21, 27, 21, 21, 21, 21, 21, 27, 21, 21, 21, 21, 21, 21, 21, 21, 21, 21, 21, 21, 21, 27, 21, 20, 20, 20, 20, 20, 20, 20, 20, 20, 20, 20, 20, 20, 20, 20, 20, 20, 20, 20, 20, 20, 20, 20, 20, 20, 20, 20, 20, 20, 20, 20, 20, 20, 20, 20, 20, 20, 20, 20, 20, 20, 20, 20, 20, 20, 20, 20, 20, 20, 20, 20, 20, 20, 20, 20, 20, 20, 20, 20, 20, 20, 20, 20, 20, 20, 20, 20, 20, 20, 20, 20, 31, 20, 20, 20, 20, 20, 20, 20, 20, 20, 20, 20, 20, 20, 20, 20, 20, 20, 20, 20, 20, 20, 20, 20, 20, 20, 20, 20, 31]\n",
    "\n",
    "def get_count_in_label(labels):\n",
    "    table = {value:0 for value in labels}\n",
    "    for ele in labels:\n",
    "        table[ele] += 1\n",
    "    key_list = table.keys()\n",
    "    #sorted(key_list, reverse = False)\n",
    "    for ele in sorted(key_list, reverse = False):\n",
    "        print(ele,\":\",table[ele])\n",
    "\n",
    "def get_label_list(hash_map):\n",
    "    label_list = []\n",
    "    for key in hash_map.keys():\n",
    "        if hash_map[key] > 0:\n",
    "            label_list.append(hash_map[key])\n",
    "        #else:\n",
    "        #    get_labels.append(hash_map[key])\n",
    "    #print(get_labels)\n",
    "    return label_list    \n",
    "\n",
    "        \n",
    "def find_missing_idx(hash_map):\n",
    "    max_idx = float(\"-inf\")\n",
    "    for key in hash_map:\n",
    "        if hash_map[key] > max_idx:\n",
    "            max_idx = hash_map[key]\n",
    "    #max_idx = max(hash_map.keys())\n",
    "    \n",
    "    min_idx = float(\"inf\")\n",
    "    for key in hash_map:\n",
    "        if hash_map[key] < min_idx and hash_map[key] != -1:\n",
    "            min_idx = hash_map[key]\n",
    "    #min_idx = 0\n",
    "\n",
    "    #print(min_idx, max_idx)                     ###############\n",
    "    \n",
    "    label_list = get_label_list(hash_map)\n",
    "\n",
    "    missing_idx = []\n",
    "    count = 1\n",
    "    while count <= max_idx:\n",
    "        if count not in label_list:\n",
    "            missing_idx.append(count)\n",
    "        count += 1\n",
    "\n",
    "    #print(missing_idx)                           ##########\n",
    "    return missing_idx\n",
    "\n",
    "def correct_the_idx(hash_map): #labels):\n",
    "    missing_idx = find_missing_idx(hash_map) #labels)\n",
    "    while missing_idx:\n",
    "        for i in missing_idx:\n",
    "            for key in hash_map:# in range(len(labels)):\n",
    "                if hash_map[key] == i + 1: #labels[j] == i+1:\n",
    "                    hash_map[key] = hash_map[key] - 1 #labels[j] = labels[j] - 1\n",
    "\n",
    "        #get_count_in_label(labels)\n",
    "        \n",
    "        #print(\"\\n\")\n",
    "        #coorect_the_idx(labels)\n",
    "        \n",
    "        missing_idx = find_missing_idx(hash_map) #labels)\n",
    "\n",
    "    \n",
    "#missing_idx = correct_the_label_idx(labels)\n",
    "#print(missing_idx)\n",
    "\n",
    "#get_count_in_label(labels)\n",
    "# print(\"\\n\\n\")\n",
    "correct_the_idx(hash_map) #labels)\n",
    "#get_count_in_label(labels)\n",
    "#find_missing_idx(hash_map)\n",
    "#print(hash_map)\n",
    "\n",
    "#label_l = get_label_list(hash_map)\n",
    "#get_count_in_label(label_l)\n"
   ]
  },
  {
   "cell_type": "code",
   "execution_count": null,
   "metadata": {},
   "outputs": [],
   "source": []
  },
  {
   "cell_type": "code",
   "execution_count": null,
   "metadata": {},
   "outputs": [],
   "source": []
  },
  {
   "cell_type": "code",
   "execution_count": null,
   "metadata": {
    "scrolled": false
   },
   "outputs": [],
   "source": [
    "get_labels = []\n",
    "for key in hash_map.keys():\n",
    "    if hash_map[key] > 0:\n",
    "        get_labels.append(hash_map[key]-1)\n",
    "    #else:\n",
    "    #    get_labels.append(hash_map[key])\n",
    "print(get_labels)"
   ]
  },
  {
   "cell_type": "code",
   "execution_count": null,
   "metadata": {},
   "outputs": [],
   "source": []
  },
  {
   "cell_type": "code",
   "execution_count": null,
   "metadata": {},
   "outputs": [],
   "source": [
    "cluster_count = set()\n",
    "for key in hash_map.keys():\n",
    "    if hash_map[key] > 0:\n",
    "        cluster_count.add(hash_map[key])\n",
    "print(len(cluster_count))"
   ]
  },
  {
   "cell_type": "code",
   "execution_count": null,
   "metadata": {},
   "outputs": [],
   "source": []
  },
  {
   "cell_type": "code",
   "execution_count": null,
   "metadata": {},
   "outputs": [],
   "source": [
    "cluster_idx = cluster_no\n",
    "while cluster_idx > 0:\n",
    "    count_f = 0\n",
    "    for key in hash_map:\n",
    "        if hash_map[key] == cluster_idx:\n",
    "            count_f += 1\n",
    "    if count_f <=1:\n",
    "        cluster_no -= 1\n",
    "    cluster_idx -= 1\n",
    "        \n",
    "print(cluster_no)"
   ]
  },
  {
   "cell_type": "code",
   "execution_count": null,
   "metadata": {},
   "outputs": [],
   "source": []
  },
  {
   "cell_type": "code",
   "execution_count": null,
   "metadata": {},
   "outputs": [],
   "source": [
    "plt.figure(figsize=(8,8))\n",
    "# plt.scatter(data1[:,0],data1[:,1],c='blue', label='Datapoints')\n",
    "\n",
    "color = ['red', 'aqua', 'yellow', 'magenta', 'black', 'darkgreen', 'blue', 'gray', 'purple', 'lime', 'maroon', 'gold', 'deeppink', 'silver', 'lawngreen', 'pink', 'navy', 'blueviolet', 'turquoise', 'lavenderblush', 'navajowhite', 'khaki']\n",
    "\n",
    "if cluster_no <= 23:\n",
    "    cluster = 0\n",
    "    while cluster < cluster_no:\n",
    "        for i in range(len(data1)):\n",
    "            if hash_map[i] == cluster+1:\n",
    "                plt.scatter(data1[i][0], data1[i][1], c=color[cluster])\n",
    "        cluster += 1\n",
    "else:\n",
    "    plt.scatter(data1[:,0],data1[:,1],c='blue', label='Datapoints')\n",
    "    \n",
    "for ele in anomaly_list:\n",
    "    plt.scatter(ele[0],ele[1],c='green',marker='*',s=150)  \n",
    "    \n",
    "plt.xlabel('X-Coordinates')\n",
    "plt.ylabel('Y-Coordinates')\n",
    "plt.title('Datapoints Visualization')\n",
    "#plt.legend()\n",
    "plt.show()"
   ]
  },
  {
   "cell_type": "code",
   "execution_count": null,
   "metadata": {},
   "outputs": [],
   "source": [
    "print(\"time taken = \",time.time()-start,\" sec\")\n",
    "#print(\"Average density =\", sum(density)/len(data1))"
   ]
  },
  {
   "cell_type": "code",
   "execution_count": null,
   "metadata": {},
   "outputs": [],
   "source": []
  },
  {
   "cell_type": "code",
   "execution_count": null,
   "metadata": {},
   "outputs": [],
   "source": []
  },
  {
   "cell_type": "code",
   "execution_count": null,
   "metadata": {},
   "outputs": [],
   "source": []
  }
 ],
 "metadata": {
  "kernelspec": {
   "display_name": "Python 3",
   "language": "python",
   "name": "python3"
  },
  "language_info": {
   "codemirror_mode": {
    "name": "ipython",
    "version": 3
   },
   "file_extension": ".py",
   "mimetype": "text/x-python",
   "name": "python",
   "nbconvert_exporter": "python",
   "pygments_lexer": "ipython3",
   "version": "3.8.3"
  }
 },
 "nbformat": 4,
 "nbformat_minor": 4
}
